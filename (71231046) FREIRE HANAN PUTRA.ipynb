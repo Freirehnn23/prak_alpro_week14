{
 "cells": [
  {
   "cell_type": "code",
   "execution_count": 1,
   "id": "e207905a",
   "metadata": {},
   "outputs": [
    {
     "name": "stdout",
     "output_type": "stream",
     "text": [
      "Masukkan sebuah angka: 3\n",
      "3 adalah bilangan prima.\n"
     ]
    }
   ],
   "source": [
    "def prima(n, pembagi=2):\n",
    "    if n <= 1:\n",
    "        return False\n",
    "    if pembagi * pembagi > n:\n",
    "        return True\n",
    "    if n % pembagi == 0:\n",
    "        return False\n",
    "    return prima(n, pembagi + 1)\n",
    "\n",
    "angka = int(input(\"Masukkan sebuah angka: \"))\n",
    "if prima(angka):\n",
    "    print(f\"{angka} adalah bilangan prima.\")\n",
    "else:\n",
    "    print(f\"{angka} bukan bilangan prima.\")"
   ]
  },
  {
   "cell_type": "code",
   "execution_count": 2,
   "id": "51508a46",
   "metadata": {},
   "outputs": [
    {
     "name": "stdout",
     "output_type": "stream",
     "text": [
      "Masukkan kalimat: kasur rusak\n",
      "Kalimat tersebut adalah palindrom.\n"
     ]
    }
   ],
   "source": [
    "def palindrom(kalimat):\n",
    "    kalimat = ''.join(kata.lower() for kata in kalimat if kata.isalpha or kata.isdigit)\n",
    "\n",
    "    if len(kalimat) <= 1:\n",
    "        return True\n",
    "    if kalimat[0] != kalimat[-1]:\n",
    "        return False\n",
    "    return palindrom(kalimat[1:-1])\n",
    "\n",
    "kalimat = input(\"Masukkan kalimat: \")\n",
    "if palindrom(kalimat):\n",
    "    print(\"Kalimat tersebut adalah palindrom.\")\n",
    "else:\n",
    "    print(\"Kalimat tersebut bukan palindrom.\")"
   ]
  },
  {
   "cell_type": "code",
   "execution_count": 3,
   "id": "dfd9d74c",
   "metadata": {},
   "outputs": [
    {
     "name": "stdout",
     "output_type": "stream",
     "text": [
      "Masukkan nilai n: 5\n",
      "Jumlah deret ganjil adalah 9\n"
     ]
    }
   ],
   "source": [
    "def jumlah_deret_ganjil(n):\n",
    "    if n <= 1:\n",
    "        return 1\n",
    "    else:\n",
    "        return n + jumlah_deret_ganjil(n - 2)\n",
    "\n",
    "try:\n",
    "    n = int(input(\"Masukkan nilai n: \"))\n",
    "    if n < 1:\n",
    "        print(\"Nilai n harus lebih besar dari 0.\")\n",
    "    else:\n",
    "        hasil = jumlah_deret_ganjil(n)\n",
    "        print(f\"Jumlah deret ganjil adalah {hasil}\")\n",
    "except ValueError:\n",
    "    print(\"Masukkan angka bulat positif!\")\n"
   ]
  },
  {
   "cell_type": "code",
   "execution_count": 4,
   "id": "a0247c1b",
   "metadata": {},
   "outputs": [
    {
     "name": "stdout",
     "output_type": "stream",
     "text": [
      "Masukkan bilangan: 234\n",
      "Jumlah digit dari 234 adalah 9\n"
     ]
    }
   ],
   "source": [
    "def jumlah_digit_rekursif(n):\n",
    "    if n < 10:\n",
    "        return n\n",
    "    else:\n",
    "        return n % 10 + jumlah_digit_rekursif(n // 10)\n",
    "\n",
    "try:\n",
    "    angka = int(input(\"Masukkan bilangan: \"))\n",
    "    hasil = jumlah_digit_rekursif(angka)\n",
    "    print(f\"Jumlah digit dari {angka} adalah {hasil}\")\n",
    "except ValueError:\n",
    "    print(\"Masukkan bilangan bulat yang valid.\")"
   ]
  },
  {
   "cell_type": "code",
   "execution_count": 5,
   "id": "c33b4f85",
   "metadata": {},
   "outputs": [
    {
     "name": "stdout",
     "output_type": "stream",
     "text": [
      "Masukkan nilai n: 4\n",
      "Masukkan nilai k: 2\n",
      "Hasil Kombinasinya adalah 6\n"
     ]
    }
   ],
   "source": [
    "def kombinasi(n, k):\n",
    "    if k == 0 or k == n:\n",
    "        return 1\n",
    "    else:\n",
    "        return kombinasi(n - 1, k - 1) + kombinasi(n - 1, k)\n",
    "\n",
    "n = int(input(\"Masukkan nilai n: \"))\n",
    "k = int(input(\"Masukkan nilai k: \"))\n",
    "hasil = kombinasi(n, k)\n",
    "print(f\"Hasil Kombinasinya adalah {hasil}\")\n"
   ]
  },
  {
   "cell_type": "code",
   "execution_count": null,
   "id": "bc4dcf29",
   "metadata": {},
   "outputs": [],
   "source": []
  }
 ],
 "metadata": {
  "kernelspec": {
   "display_name": "Python 3 (ipykernel)",
   "language": "python",
   "name": "python3"
  },
  "language_info": {
   "codemirror_mode": {
    "name": "ipython",
    "version": 3
   },
   "file_extension": ".py",
   "mimetype": "text/x-python",
   "name": "python",
   "nbconvert_exporter": "python",
   "pygments_lexer": "ipython3",
   "version": "3.11.5"
  }
 },
 "nbformat": 4,
 "nbformat_minor": 5
}
